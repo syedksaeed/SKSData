{
 "cells": [
  {
   "cell_type": "markdown",
   "id": "05b16abd",
   "metadata": {},
   "source": [
    "# Data Science and Finance"
   ]
  },
  {
   "cell_type": "markdown",
   "id": "8be6eb6d",
   "metadata": {},
   "source": [
    "## Introduction "
   ]
  },
  {
   "cell_type": "markdown",
   "id": "0dc16548",
   "metadata": {},
   "source": [
    "### This section will provide a summarised discussion about how to utilise the data sciences in the field of finance."
   ]
  },
  {
   "cell_type": "markdown",
   "id": "37d00b80",
   "metadata": {},
   "source": [
    "### Some of the most known data science languages are the following:\n",
    "    1. Python\n",
    "    2. Julia\n",
    "    3. SQL\n",
    "    4. R\n",
    "    5. Scala\n",
    "    6. C++\n",
    "    7. Java"
   ]
  },
  {
   "cell_type": "markdown",
   "id": "1b091982",
   "metadata": {},
   "source": [
    "### Some of the most known libraries used in data science field are the following:\n",
    "    1. Pandas\n",
    "    2. Numpy\n",
    "    3. Matplotlib\n",
    "    4. Seaborn\n",
    "    5. Keras\n",
    "    6. TensorFlow\n",
    "    7. Big DL"
   ]
  },
  {
   "cell_type": "markdown",
   "id": "be59f317",
   "metadata": {},
   "source": [
    "### Following are the few important data science tools:\n",
    "\n",
    "|Sr.|Data Science Tools|\n",
    "|---|------------------|\n",
    "|1.|Anaconda|\n",
    "|2.|Jupyter Notebook|\n",
    "|3.|R Studio|\n",
    "|4.|TensorFlow|\n",
    "|5.|Apache Hadoop|\n",
    "|6.|Weka|\n",
    "|7.|Mongo DB|\n",
    "|8.|Orange|\n",
    "|9.|KNIME|\n",
    "|10.|Neo4j|"
   ]
  },
  {
   "cell_type": "markdown",
   "id": "0a545e0b",
   "metadata": {},
   "source": [
    "### Below are the few example showing arithmatic examples in Python:"
   ]
  },
  {
   "cell_type": "code",
   "execution_count": 3,
   "id": "b6dde24f",
   "metadata": {},
   "outputs": [
    {
     "data": {
      "text/plain": [
       "350"
      ]
     },
     "execution_count": 3,
     "metadata": {},
     "output_type": "execute_result"
    }
   ],
   "source": [
    "100+250"
   ]
  },
  {
   "cell_type": "code",
   "execution_count": 4,
   "id": "dd364f1c",
   "metadata": {},
   "outputs": [
    {
     "data": {
      "text/plain": [
       "85"
      ]
     },
     "execution_count": 4,
     "metadata": {},
     "output_type": "execute_result"
    }
   ],
   "source": [
    "245-160"
   ]
  },
  {
   "cell_type": "code",
   "execution_count": 5,
   "id": "069050e8",
   "metadata": {},
   "outputs": [
    {
     "data": {
      "text/plain": [
       "375"
      ]
     },
     "execution_count": 5,
     "metadata": {},
     "output_type": "execute_result"
    }
   ],
   "source": [
    "25*15"
   ]
  },
  {
   "cell_type": "code",
   "execution_count": 6,
   "id": "8de8dace",
   "metadata": {},
   "outputs": [
    {
     "data": {
      "text/plain": [
       "10.0"
      ]
     },
     "execution_count": 6,
     "metadata": {},
     "output_type": "execute_result"
    }
   ],
   "source": [
    "250/25"
   ]
  },
  {
   "cell_type": "code",
   "execution_count": 8,
   "id": "47e722c1",
   "metadata": {},
   "outputs": [
    {
     "data": {
      "text/plain": [
       "250"
      ]
     },
     "execution_count": 8,
     "metadata": {},
     "output_type": "execute_result"
    }
   ],
   "source": [
    "# This code shows how to multipyly and add numbers:\n",
    "(100+25)*2"
   ]
  },
  {
   "cell_type": "code",
   "execution_count": 9,
   "id": "a308e018",
   "metadata": {},
   "outputs": [
    {
     "data": {
      "text/plain": [
       "40.0"
      ]
     },
     "execution_count": 9,
     "metadata": {},
     "output_type": "execute_result"
    }
   ],
   "source": [
    "# This code explain how to use subtrction and division:\n",
    "(850-650)/5"
   ]
  },
  {
   "cell_type": "code",
   "execution_count": 10,
   "id": "6bfa1dd5",
   "metadata": {},
   "outputs": [
    {
     "name": "stdout",
     "output_type": "stream",
     "text": [
      "Enter time in minutes:     180\n",
      "3.0\n"
     ]
    }
   ],
   "source": [
    "# This code will convert minutes into hours:\n",
    "time=float(input(\"Enter time in minutes:     \"))\n",
    "hour=float(time/60)\n",
    "print(hour)"
   ]
  },
  {
   "cell_type": "markdown",
   "id": "bdeeb81f",
   "metadata": {},
   "source": [
    "##   Objectives\n",
    "###  Following are the objectives of this document:\n",
    "+ To show that data sciences is equally applicable in the field of finance.\n",
    "+ To show how to use basic functions of arithmatics in python.\n",
    "+ To provide some familiarity to students "
   ]
  },
  {
   "cell_type": "markdown",
   "id": "39cccd98",
   "metadata": {},
   "source": [
    "# Author\n",
    "  This document is authored by Syed Kashif Saeed."
   ]
  },
  {
   "cell_type": "code",
   "execution_count": null,
   "id": "5c949206",
   "metadata": {},
   "outputs": [],
   "source": []
  }
 ],
 "metadata": {
  "kernelspec": {
   "display_name": "Python 3 (ipykernel)",
   "language": "python",
   "name": "python3"
  },
  "language_info": {
   "codemirror_mode": {
    "name": "ipython",
    "version": 3
   },
   "file_extension": ".py",
   "mimetype": "text/x-python",
   "name": "python",
   "nbconvert_exporter": "python",
   "pygments_lexer": "ipython3",
   "version": "3.10.11"
  }
 },
 "nbformat": 4,
 "nbformat_minor": 5
}
